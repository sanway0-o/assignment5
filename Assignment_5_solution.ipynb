{
 "cells": [
  {
   "cell_type": "markdown",
   "id": "6edefff9",
   "metadata": {},
   "source": [
    "#1. An empty dictionary is often represented by two empty curly brackets\n",
    "d = {} or d = dict()"
   ]
  },
  {
   "cell_type": "code",
   "execution_count": 17,
   "id": "02cde557",
   "metadata": {},
   "outputs": [
    {
     "name": "stdout",
     "output_type": "stream",
     "text": [
      "{}\n",
      "{}\n",
      "Length: 0\n",
      "<class 'dict'>\n"
     ]
    }
   ],
   "source": [
    "emptyDict = {}\n",
    "d=dict()\n",
    "\n",
    "# print dictionary\n",
    "print(emptyDict)\n",
    "print(d)\n",
    " \n",
    "# print length of dictionary\n",
    "print(\"Length:\", len(emptyDict))\n",
    " \n",
    "# print type\n",
    "print(type(emptyDict))"
   ]
  },
  {
   "cell_type": "markdown",
   "id": "069a54db",
   "metadata": {},
   "source": [
    "#2.The value of the dictionary is {'foo':42}"
   ]
  },
  {
   "cell_type": "code",
   "execution_count": 18,
   "id": "9d878eb4",
   "metadata": {},
   "outputs": [
    {
     "name": "stdout",
     "output_type": "stream",
     "text": [
      "{'foo': 42}\n"
     ]
    }
   ],
   "source": [
    "dict1={\"foo\":42}\n",
    "print(dict1)"
   ]
  },
  {
   "cell_type": "markdown",
   "id": "c4606e4d",
   "metadata": {},
   "source": [
    "#3. The most significant distinction between a dictionary and a list is:"
   ]
  },
  {
   "cell_type": "raw",
   "id": "b4c5a6ef",
   "metadata": {},
   "source": [
    "i) Dictionaries are represented by {} where as listed are represented by []. \n",
    "\n",
    "ii) The Items stored in a dictionary are Unordered , while the items in a list are ordered.\n",
    "\n",
    "iii) Lists are just like the arrays, declared in other languages. Lists need not be homogeneous always which makes it a most powerful tool in Python. A single list may contain DataTypes like Integers, Strings, as well as Objects. Lists are mutable, and hence, they can be altered even after their creation.\n",
    "\n",
    "Dictionary in Python on the other hand is an unordered collection of data values, used to store data values like a map, which unlike other Data Types that hold only single value as an element, Dictionary holds key:value pair. Key-value is provided in the dictionary to make it more optimized. Each key-value pair in a Dictionary is separated by a colon :, whereas each key is separated by a ‘comma’."
   ]
  },
  {
   "cell_type": "code",
   "execution_count": 21,
   "id": "63e16db5",
   "metadata": {},
   "outputs": [
    {
     "name": "stdout",
     "output_type": "stream",
     "text": [
      "Dictionary with the use of Integer Keys: \n",
      "{1: 'Santu', 2: 'Bunty', 3: 'KD'}\n",
      "List containing multiple values: \n",
      "Santu\n",
      "KD\n"
     ]
    }
   ],
   "source": [
    "#Dictionary\n",
    "Dict = {1: 'Santu', 2: 'Bunty', 3: 'KD'}\n",
    "print(\"Dictionary with the use of Integer Keys: \")\n",
    "print(Dict)\n",
    "\n",
    "#List\n",
    "List = [\"Santu\", \"Bunty\", \"KD\"]\n",
    "print(\"List containing multiple values: \")\n",
    "print(List[0]) \n",
    "print(List[2])"
   ]
  },
  {
   "cell_type": "markdown",
   "id": "245697db",
   "metadata": {},
   "source": [
    "#4. we will get a keyError KeyError: 'foo'"
   ]
  },
  {
   "cell_type": "code",
   "execution_count": 23,
   "id": "e2984fb8",
   "metadata": {},
   "outputs": [
    {
     "ename": "KeyError",
     "evalue": "'foo'",
     "output_type": "error",
     "traceback": [
      "\u001b[1;31m---------------------------------------------------------------------------\u001b[0m",
      "\u001b[1;31mKeyError\u001b[0m                                  Traceback (most recent call last)",
      "Cell \u001b[1;32mIn[23], line 2\u001b[0m\n\u001b[0;32m      1\u001b[0m spam \u001b[38;5;241m=\u001b[39m {\u001b[38;5;124m'\u001b[39m\u001b[38;5;124mbar\u001b[39m\u001b[38;5;124m'\u001b[39m: \u001b[38;5;241m100\u001b[39m}\n\u001b[1;32m----> 2\u001b[0m spam [\u001b[38;5;124m'\u001b[39m\u001b[38;5;124mfoo\u001b[39m\u001b[38;5;124m'\u001b[39m]\n",
      "\u001b[1;31mKeyError\u001b[0m: 'foo'"
     ]
    }
   ],
   "source": [
    "spam = {'bar': 100}\n",
    "spam ['foo']"
   ]
  },
  {
   "cell_type": "markdown",
   "id": "8b22fc04",
   "metadata": {},
   "source": [
    "#5. In Python, when we use the in operator to check for the presence of a key in a dictionary, there is a difference between the expressions 'cat' in spam and 'cat' in spam.keys()."
   ]
  },
  {
   "cell_type": "raw",
   "id": "d11fdec1",
   "metadata": {},
   "source": [
    "1. 'cat' in spam:\n",
    "        This expression checks if the key 'cat' exists in the dictionary spam. If the key is present in the dictionary, it will return True; otherwise, it will return False. This is a straightforward way to check if a key exists in the dictionary.\n",
    "\n",
    "2. 'cat' in spam.keys():\n",
    "        This expression first retrieves all the keys of the dictionary spam using the .keys() method, and then it checks if the string 'cat' is in the list of keys. It essentially performs the same check as 'cat' in spam, but with an additional step of extracting the keys into a list. It will also return True if the key exists in the dictionary and False if it doesn't.\n",
    "\n",
    "Both expressions will provide the same result in terms of checking for the presence of the key 'cat' in the dictionary spam. However, the first expression ('cat' in spam) is more concise and is typically preferred for such checks because it directly operates on the dictionary without the need to create an intermediate list of keys."
   ]
  },
  {
   "cell_type": "code",
   "execution_count": 25,
   "id": "7e1cb214",
   "metadata": {},
   "outputs": [
    {
     "name": "stdout",
     "output_type": "stream",
     "text": [
      "True\n",
      "True\n"
     ]
    }
   ],
   "source": [
    "spam = {'cat': 'meow', 'dog': 'woof'}\n",
    "\n",
    "# Check if 'cat' is a key in the dictionary (returns True)\n",
    "print('cat' in spam)\n",
    "\n",
    "# Check if 'cat' is a value in the dictionary (returns True)\n",
    "print('cat' in spam.keys())"
   ]
  },
  {
   "cell_type": "markdown",
   "id": "681195e4",
   "metadata": {},
   "source": [
    "#6.In Python, when we use the in operator to check for the presence of a value in a dictionary, there is a difference between the expressions 'cat' in spam and 'cat' in spam.values()."
   ]
  },
  {
   "cell_type": "raw",
   "id": "42a0d333",
   "metadata": {},
   "source": [
    "1. 'cat' in spam:\n",
    "        This expression checks if the string 'cat' exists as a key in the dictionary spam. It will return True if 'cat' is a key in the dictionary (i.e., if it is one of the dictionary's keys); otherwise, it will return False.\n",
    "\n",
    "2. 'cat' in spam.values():\n",
    "        This expression checks if the string 'cat' exists as a value in the dictionary spam. It will return True if 'cat' is one of the values in the dictionary; otherwise, it will return False."
   ]
  },
  {
   "cell_type": "code",
   "execution_count": 26,
   "id": "0082fa8b",
   "metadata": {},
   "outputs": [
    {
     "name": "stdout",
     "output_type": "stream",
     "text": [
      "False\n",
      "True\n"
     ]
    }
   ],
   "source": [
    "#Here's an example to illustrate the difference:\n",
    "\n",
    "spam = {'key1': 'cat', 'key2': 'dog', 'key3': 'bird'}\n",
    "\n",
    "# Check if 'cat' is a key in the dictionary (returns True)\n",
    "print('cat' in spam)\n",
    "\n",
    "# Check if 'cat' is a value in the dictionary (returns True)\n",
    "print('cat' in spam.values())"
   ]
  },
  {
   "cell_type": "markdown",
   "id": "012b67f1",
   "metadata": {},
   "source": [
    "#7. the shortcut of the given code is:"
   ]
  },
  {
   "cell_type": "raw",
   "id": "ca898835",
   "metadata": {},
   "source": [
    "spam.setdefault('color','black')"
   ]
  },
  {
   "cell_type": "code",
   "execution_count": 28,
   "id": "85c8cfff",
   "metadata": {},
   "outputs": [
    {
     "name": "stdout",
     "output_type": "stream",
     "text": [
      "{'cat': 'meow', 'dog': 'woof', 'color': 'black'}\n"
     ]
    }
   ],
   "source": [
    "spam = {'cat': 'meow', 'dog': 'woof'}\n",
    "spam.setdefault('color','black')\n",
    "print(spam)"
   ]
  },
  {
   "cell_type": "markdown",
   "id": "aaea1141",
   "metadata": {},
   "source": [
    "#8. we can pretty print a dictionary using the following module and function"
   ]
  },
  {
   "cell_type": "raw",
   "id": "55c09d6b",
   "metadata": {},
   "source": [
    "    To pretty print dictionary values in Python, we can use the pprint module from the pprint library (pretty-printing library). The pprint module provides a pprint function that formats the output in a more human-readable and organized way compared to the standard print function.\n",
    "    When we use pprint.pprint(), it will format the dictionary in a visually appealing way, preserving the indentation for nested structures and making it easier to read. This is especially helpful for large or complex dictionaries.\n",
    "\n",
    "Here's an example of the concept:"
   ]
  },
  {
   "cell_type": "code",
   "execution_count": 33,
   "id": "537a3b3b",
   "metadata": {},
   "outputs": [
    {
     "name": "stdout",
     "output_type": "stream",
     "text": [
      "normal printed dictionary is: \n",
      " {'name': 'John', 'age': 30, 'city': 'New York', 'hobbies': ['reading', 'hiking', 'cooking']}\n",
      "~~~~~~~~~~~~~~~~~~~~~~~~~~~~~~~~~~~~~~~~~~~~~~~~~~~~~~~~~~~~~~~~~~~~~~~~~~~~~~~~\n",
      "Printing using pprint() funciton\n",
      "{'age': 30,\n",
      " 'city': 'New York',\n",
      " 'hobbies': ['reading', 'hiking', 'cooking'],\n",
      " 'name': 'John'}\n"
     ]
    }
   ],
   "source": [
    "import pprint\n",
    "\n",
    "my_dict = {'name': 'John','age': 30,'city': 'New York','hobbies': ['reading', 'hiking', 'cooking']}\n",
    "\n",
    "#normal print of the dictionary\n",
    "print(\"normal printed dictionary is: \\n\",my_dict)\n",
    "print('~'*80)\n",
    "print('Printing using pprint() funciton')\n",
    "# Pretty print the dictionary\n",
    "pprint.pprint(my_dict)"
   ]
  },
  {
   "cell_type": "code",
   "execution_count": null,
   "id": "039a56a9",
   "metadata": {},
   "outputs": [],
   "source": []
  }
 ],
 "metadata": {},
 "nbformat": 4,
 "nbformat_minor": 5
}
